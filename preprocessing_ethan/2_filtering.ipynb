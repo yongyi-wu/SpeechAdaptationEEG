{
 "nbformat": 4,
 "nbformat_minor": 2,
 "metadata": {
  "language_info": {
   "name": "python",
   "codemirror_mode": {
    "name": "ipython",
    "version": 3
   },
   "version": "3.7.6-final"
  },
  "orig_nbformat": 2,
  "file_extension": ".py",
  "mimetype": "text/x-python",
  "name": "python",
  "npconvert_exporter": "python",
  "pygments_lexer": "ipython3",
  "version": 3,
  "kernelspec": {
   "name": "python37464bitfe6cfc8f35204ee7a9bdd31abb292412",
   "display_name": "Python 3.7.4 64-bit"
  }
 },
 "cells": [
  {
   "cell_type": "code",
   "execution_count": null,
   "metadata": {},
   "outputs": [],
   "source": [
    "import mne"
   ]
  },
  {
   "cell_type": "code",
   "execution_count": null,
   "metadata": {},
   "outputs": [],
   "source": [
    "from metadata import *\n",
    "\n",
    "print(subject_list)"
   ]
  },
  {
   "cell_type": "code",
   "execution_count": null,
   "metadata": {},
   "outputs": [],
   "source": [
    "# FILTERING\n",
    "\n",
    "l_freq = 2 # high-pass filter threshold\n",
    "h_freq = 32 # low-pass filter threshold\n",
    "\n",
    "for subject in subject_list:\n",
    "    print('##### Processing subject', subject, '...')\n",
    "\n",
    "    print('# Reading raw data...')\n",
    "    raw = mne.io.read_raw_fif(\n",
    "        resampled_files[subject], \n",
    "        preload = True\n",
    "    )\n",
    "    raw.set_eeg_reference('average', projection = True)\n",
    "\n",
    "    print('# Filtering data...')\n",
    "    raw.filter(l_freq, h_freq)\n",
    "\n",
    "    print('# Saving the file...')\n",
    "    raw.save(filtered_files[subject], overwrite = True)\n",
    "\n",
    "print('***** ALL DONE *****')"
   ]
  }
 ]
}