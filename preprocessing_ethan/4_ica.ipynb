{
 "nbformat": 4,
 "nbformat_minor": 2,
 "metadata": {
  "language_info": {
   "name": "python",
   "codemirror_mode": {
    "name": "ipython",
    "version": 3
   },
   "version": "3.7.6-final"
  },
  "orig_nbformat": 2,
  "file_extension": ".py",
  "mimetype": "text/x-python",
  "name": "python",
  "npconvert_exporter": "python",
  "pygments_lexer": "ipython3",
  "version": 3,
  "kernelspec": {
   "name": "python37464bitfe6cfc8f35204ee7a9bdd31abb292412",
   "display_name": "Python 3.7.4 64-bit"
  }
 },
 "cells": [
  {
   "cell_type": "code",
   "execution_count": null,
   "metadata": {},
   "outputs": [],
   "source": [
    "import mne\n",
    "import matplotlib.pyplot as plt\n",
    "%matplotlib inline"
   ]
  },
  {
   "cell_type": "code",
   "execution_count": null,
   "metadata": {},
   "outputs": [],
   "source": [
    "from metadata import *\n",
    "\n",
    "print(subject_list)\n",
    "biosemi_layout.plot()\n",
    "plt.close()"
   ]
  },
  {
   "cell_type": "code",
   "execution_count": null,
   "metadata": {},
   "outputs": [],
   "source": [
    "# COMPUTING ICA AND SAVE THE ICA DATA\n",
    "\n",
    "ica_method = 'fastica' # other options: 'infomax', 'picard'\n",
    "max_iter = 10000 # maximum iteration for fitting\n",
    "decim = 8 # increment for selecting each nth time slice\n",
    "\n",
    "for subject in subject_list: \n",
    "    print('##### Processing subject', subject, '...')\n",
    "\n",
    "    print('# Processing raw data...')\n",
    "    raw = mne.io.read_raw_fif(\n",
    "        filtered_files[subject], \n",
    "        preload = True\n",
    "    )\n",
    "    raw.set_montage(biosemi_layout, raise_if_subset = False)\n",
    "\n",
    "    print('# Fitting ICA...')\n",
    "    ica = mne.preprocessing.ICA(\n",
    "        method = ica_method,\n",
    "        max_iter = max_iter\n",
    "    )\n",
    "    ica.fit(\n",
    "        raw, \n",
    "        picks = EEG_channels+EXG_channels, \n",
    "        decim = decim\n",
    "    )\n",
    "\n",
    "    print('# Saving the ICA data...')\n",
    "    ica.save(ica_files[subject])\n",
    "\n",
    "print('***** ALL DONE *****')"
   ]
  },
  {
   "cell_type": "code",
   "execution_count": null,
   "metadata": {},
   "outputs": [],
   "source": [
    "# VISUALIZE ALL COMPONENTS IN SCALP TOPOGRAPHY\n",
    "\n",
    "for subject in subject_lists: \n",
    "    print('##### Processing subject', subject, '...')\n",
    "\n",
    "    print('# Reading the ICA data...')\n",
    "    ica = mne.preprocessing.read_ica(ica_files[subject])\n",
    "\n",
    "    print('# Visualizing ICA components...')\n",
    "    figure = ica.plot_components(show = False)\n",
    "\n",
    "    print('# Saving figures...')\n",
    "    figure[0].savefig(ica_viz_dir+subject+'_'+ica_method+'_component_0-19.png')\n",
    "    figure[1].savefig(ica_viz_dir+subject+'_'+ica_method+'_component_20-36.png')\n",
    "\n",
    "print('***** ALL DONE *****')"
   ]
  },
  {
   "cell_type": "code",
   "execution_count": null,
   "metadata": {},
   "outputs": [],
   "source": [
    "# FOR EACH SUBJECT, VISUALIZE DIAGNOSTICS PER CHANNEL\n",
    "\n",
    "for subject in subject_list: \n",
    "    print('##### Processing subject', subject, '...')\n",
    "\n",
    "    print('# Reading Raw and ICA data...')\n",
    "    raw = mne.io.read_raw_fif(filtered_files[subject], preload=True)\n",
    "    ica = mne.preprocessing.read_ica(ica_files[subject])\n",
    "\n",
    "    print('# Plotting diagnostics for all channels...')\n",
    "    figure = ica.plot_properties(\n",
    "        raw, \n",
    "        picks = 'all', \n",
    "        show = False\n",
    "    )\n",
    "\n",
    "    print('# Saving figures...')\n",
    "    for ic in range(len(figure)): \n",
    "        index = '0'*(3-len(str(ic)))+str(ic)\n",
    "        figure[ic].savefig(ica_viz_dir+subject+'_'+'ICA'+index+'.png')\n",
    "    \n",
    "    plt.close('all') # prevent figures printed out in the console\n",
    "\n",
    "print('***** ALL DONE *****')"
   ]
  }
 ]
}