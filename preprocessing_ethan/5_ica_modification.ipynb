{
 "nbformat": 4,
 "nbformat_minor": 2,
 "metadata": {
  "language_info": {
   "name": "python",
   "codemirror_mode": {
    "name": "ipython",
    "version": 3
   },
   "version": "3.7.6-final"
  },
  "orig_nbformat": 2,
  "file_extension": ".py",
  "mimetype": "text/x-python",
  "name": "python",
  "npconvert_exporter": "python",
  "pygments_lexer": "ipython3",
  "version": 3,
  "kernelspec": {
   "name": "python37464bitfe6cfc8f35204ee7a9bdd31abb292412",
   "display_name": "Python 3.7.4 64-bit"
  }
 },
 "cells": [
  {
   "cell_type": "code",
   "execution_count": null,
   "metadata": {},
   "outputs": [],
   "source": [
    "import mne\n",
    "import matplotlib.pyplot as plt\n",
    "%matplotlib inline"
   ]
  },
  {
   "cell_type": "code",
   "execution_count": null,
   "metadata": {},
   "outputs": [],
   "source": [
    "from metadata import *\n",
    "\n",
    "print(subject_list)\n",
    "print(EOG_channels)"
   ]
  },
  {
   "cell_type": "code",
   "execution_count": null,
   "metadata": {},
   "outputs": [],
   "source": [
    "# HELPTER FUNCTIONS\n",
    "\n",
    "def read_data(subject): \n",
    "    print('# Reading Raw and ICA data...')\n",
    "    raw = mne.io.read_raw_fif(filtered_files[subject], preload=True)\n",
    "    ica = mne.preprocessing.read_ica(ica_files[subject])\n",
    "    ica.exclude = [] # default to empty list\n",
    "    return raw, ica\n",
    "\n",
    "# read more on https://mne.tools/dev/generated/mne.preprocessing.ICA.html#mne.preprocessing.ICA.find_bads_eog\n",
    "def auto_detect_eog(subject, raw, ica, EOG): \n",
    "    print('# Finding ICs that match patterns in EOG channels...')\n",
    "    exclude = set()\n",
    "    for channel in EOG: \n",
    "        eog_indices, eog_scores = ica.find_bads_eog(\n",
    "            raw, \n",
    "            ch_name = channel\n",
    "        )\n",
    "        ica.plot_scores(eog_scores)\n",
    "        exclude.update(eog_indices)\n",
    "    print('# Exclude EOG:', exclude)\n",
    "    return exclude\n",
    "\n",
    "# read more on https://mne.tools/dev/generated/mne.preprocessing.ICA.html#mne.preprocessing.ICA.find_bads_ecg\n",
    "def auto_detect_ecg(subject, raw, ica, ECG): \n",
    "    print('# Finding ICs that match patterns in ECG channels...')\n",
    "    exclude = set()\n",
    "    for channel in ECG: \n",
    "        ecg_indices, ecg_scores = ica.find_bads_ecg(\n",
    "            raw, \n",
    "            ch_name = channel\n",
    "        )\n",
    "        ica.plot_scores(ecg_scores)\n",
    "        exclude.update(ecg_indices)\n",
    "    print('# Exclude ECG:', exclude)\n",
    "    return exclude\n",
    "\n",
    "def reject(subject, EOG, ECG, noise): \n",
    "    print('##### Processing subject', subject, '...')\n",
    "    raw, ica = read_data(subject)\n",
    "    print('# Running auto detection...')\n",
    "    exclude_eog = auto_detect_eog(subject, raw, ica, EOG)\n",
    "    exclude_ecg = auto_detect_ecg(subject, raw, ica, ECG)\n",
    "    exclude_auto = exclude_eog.union(exclude_eog)\n",
    "    print('# Auto Exclude:', exclude_auto)\n",
    "    exclude_list = list(exclude_auto.union(set(noise))) # automatically detected + manually included\n",
    "    print('# Exclude list:', exclude_list)\n",
    "    ica.exclude = exclude_list\n",
    "    print('# Visualizing noise reduction...')\n",
    "    ica.plot_sources(raw)\n",
    "    ica.plot_overlay(raw, picks = EEG_channels)\n",
    "    print(\"# Saving the updated data...\")\n",
    "    raw_after_ica = ica.apply(raw, exclude = ica.exclude)\n",
    "    raw_after_ica.save(ica_after_files[subject], overwrite = True)\n",
    "    print('Done!')"
   ]
  },
  {
   "cell_type": "code",
   "execution_count": null,
   "metadata": {},
   "outputs": [],
   "source": [
    "'''\n",
    "FOR EACH SUBJECT, DROP BAD COMPONENTS.  \n",
    "\n",
    "subejct: subject_id\n",
    "EOG_list: already specified by EOG_channels in \"metadata\" file: ['EXG3', 'EXG4', 'EXG5']\n",
    "ECG_list: default to be empty\n",
    "noise_list: manually specified by inspecting visualizations of independent components\n",
    "\n",
    "finally just run: reject(subject, EOG_channels, ECG_list, noise_list)\n",
    "'''"
   ]
  },
  {
   "cell_type": "code",
   "execution_count": null,
   "metadata": {},
   "outputs": [],
   "source": [
    "subject = '001'\n",
    "ECG_list = []\n",
    "noise_list = [5, 9, 17, 33, 35, 36] # muscle: 5, 9; noise: 17, 33, 35, 36\n",
    "reject(subject, EOG_channels, ECG_list, noise_list)"
   ]
  },
  {
   "cell_type": "code",
   "execution_count": null,
   "metadata": {},
   "outputs": [],
   "source": [
    "subject = '002'\n",
    "ECG_list = []\n",
    "noise_list = [6, 17, 20, 32, 35, 36] # muscle: 17, 20, 32; noise: 6, 35, 36\n",
    "reject(subject, EOG_channels, ECG_list, noise_list)"
   ]
  },
  {
   "cell_type": "code",
   "execution_count": null,
   "metadata": {},
   "outputs": [],
   "source": [
    "subject = '003'\n",
    "ECG_list = []\n",
    "noise_list = [3, 12, 14, 16, 18, 24, 26, 27, 31, 36] # muscle: 3, 12, 14, 16, 24, 26, 27; noise: 18, 31, 36\n",
    "reject(subject, EOG_channels, ECG_list, noise_list)"
   ]
  },
  {
   "cell_type": "code",
   "execution_count": null,
   "metadata": {},
   "outputs": [],
   "source": [
    "subject = '004'\n",
    "ECG_list = []\n",
    "noise_list = [16, 20, 34, 36] # muscle: 20; noise: 16, 34, 36\n",
    "reject(subject, EOG_channels, ECG_list, noise_list)"
   ]
  },
  {
   "cell_type": "code",
   "execution_count": null,
   "metadata": {},
   "outputs": [],
   "source": [
    "subject = '005'\n",
    "ECG_list = []\n",
    "noise_list = [10, 13, 15, 16, 29, 36] # muscle: 10, 15, 29; noise: 13, 16, 36\n",
    "reject(subject, EOG_channels, ECG_list, noise_list)"
   ]
  },
  {
   "cell_type": "code",
   "execution_count": null,
   "metadata": {},
   "outputs": [],
   "source": [
    "subject = '006'\n",
    "ECG_list = []\n",
    "noise_list = [] # muscle: 27, 28, 31; noise: 25, 36 ## NOT SURE: 2, 3\n",
    "reject(subject, EOG_channels, ECG_list, noise_list)"
   ]
  },
  {
   "cell_type": "code",
   "execution_count": null,
   "metadata": {},
   "outputs": [],
   "source": [
    "subject = '007'\n",
    "ECG_list = []\n",
    "noise_list = []\n",
    "reject(subject, EOG_channels, ECG_list, noise_list)"
   ]
  },
  {
   "cell_type": "code",
   "execution_count": null,
   "metadata": {},
   "outputs": [],
   "source": [
    "subject = '008'\n",
    "ECG_list = []\n",
    "noise_list = [19, 23, 25, 26, 28, 33, 36] # muscle: 19, 23, 26, 28; noise: 25, 33, 36 ## NOT SURE: 2, 3\n",
    "reject(subject, EOG_channels, ECG_list, noise_list)"
   ]
  },
  {
   "cell_type": "code",
   "execution_count": null,
   "metadata": {},
   "outputs": [],
   "source": [
    "subject = '009'\n",
    "ECG_list = []\n",
    "noise_list = [10, 11, 15, 25, 29, 32, 35]  # muscle: 10, 11, 15, 25, 29; noise: 32, 35\n",
    "reject(subject, EOG_channels, ECG_list, noise_list)"
   ]
  },
  {
   "cell_type": "code",
   "execution_count": null,
   "metadata": {},
   "outputs": [],
   "source": [
    "subject = '010'\n",
    "ECG_list = []\n",
    "noise_list = []\n",
    "reject(subject, EOG_channels, ECG_list, noise_list)"
   ]
  },
  {
   "cell_type": "code",
   "execution_count": null,
   "metadata": {},
   "outputs": [],
   "source": [
    "subject = '011'\n",
    "ECG_list = []\n",
    "noise_list = [3, 4, 8, 9, 11, 15, 16, 17, 23, 26, 27, 28] # muscle: 3, 4, 8, 9, 11, 15, 16, 17, 23, 26, 27, 28\n",
    "reject(subject, EOG_channels, ECG_list, noise_list)"
   ]
  },
  {
   "cell_type": "code",
   "execution_count": null,
   "metadata": {},
   "outputs": [],
   "source": [
    "subject = '012'\n",
    "ECG_list = []\n",
    "noise_list = [] #[0, 2] # noise: 0, 2\n",
    "reject(subject, EOG_channels, ECG_list, noise_list)"
   ]
  },
  {
   "cell_type": "code",
   "execution_count": null,
   "metadata": {},
   "outputs": [],
   "source": [
    "subject = '013'\n",
    "ECG_list = []\n",
    "noise_list = []\n",
    "reject(subject, EOG_channels, ECG_list, noise_list)"
   ]
  },
  {
   "cell_type": "code",
   "execution_count": null,
   "metadata": {},
   "outputs": [],
   "source": [
    "subject = '014'\n",
    "ECG_list = []\n",
    "noise_list = [0, 1, 2, 5, 7, 14, 23] # muscle: 14, 23; noise: 0, 1, 2, 7; eye: 5\n",
    "reject(subject, EOG_channels, ECG_list, noise_list)"
   ]
  },
  {
   "cell_type": "code",
   "execution_count": null,
   "metadata": {},
   "outputs": [],
   "source": [
    "subject = '015'\n",
    "ECG_list = []\n",
    "noise_list = [1, 2, 13, 15, 23, 34] # muscle: 13, 15, 23, 34; noise: 2; eye: 1\n",
    "reject(subject, EOG_channels, ECG_list, noise_list)"
   ]
  },
  {
   "cell_type": "code",
   "execution_count": null,
   "metadata": {},
   "outputs": [],
   "source": [
    "subject = '016'\n",
    "ECG_list = []\n",
    "noise_list = []\n",
    "reject(subject, EOG_channels, ECG_list, noise_list)"
   ]
  },
  {
   "cell_type": "code",
   "execution_count": null,
   "metadata": {},
   "outputs": [],
   "source": [
    "subject = '018'\n",
    "ECG_list = []\n",
    "noise_list = []\n",
    "reject(subject, EOG_channels, ECG_list, noise_list)"
   ]
  },
  {
   "cell_type": "code",
   "execution_count": null,
   "metadata": {},
   "outputs": [],
   "source": [
    "subject = '019'\n",
    "ECG_list = []\n",
    "noise_list = []\n",
    "reject(subject, EOG_channels, ECG_list, noise_list)"
   ]
  },
  {
   "cell_type": "code",
   "execution_count": null,
   "metadata": {},
   "outputs": [],
   "source": [
    "subject = '020'\n",
    "ECG_list = []\n",
    "noise_list = []\n",
    "reject(subject, EOG_channels, ECG_list, noise_list)"
   ]
  },
  {
   "cell_type": "code",
   "execution_count": null,
   "metadata": {},
   "outputs": [],
   "source": [
    "subject = '021'\n",
    "ECG_list = []\n",
    "noise_list = [2, 9, 12, 18, 19, 20, 26, 35] # muscle: 9, 12, 18, 19, 20; noise: 26; eye: 2, 35; \n",
    "reject(subject, EOG_channels, ECG_list, noise_list)"
   ]
  },
  {
   "cell_type": "code",
   "execution_count": null,
   "metadata": {},
   "outputs": [],
   "source": [
    "subject = '022'\n",
    "ECG_list = []\n",
    "noise_list = []\n",
    "reject(subject, EOG_channels, ECG_list, noise_list)"
   ]
  },
  {
   "cell_type": "code",
   "execution_count": null,
   "metadata": {},
   "outputs": [],
   "source": [
    "subject = '023'\n",
    "ECG_list = []\n",
    "noise_list = []\n",
    "reject(subject, EOG_channels, ECG_list, noise_list)"
   ]
  },
  {
   "cell_type": "code",
   "execution_count": null,
   "metadata": {},
   "outputs": [],
   "source": [
    "subject = '024'\n",
    "ECG_list = []\n",
    "noise_list = []\n",
    "reject(subject, EOG_channels, ECG_list, noise_list)"
   ]
  },
  {
   "cell_type": "code",
   "execution_count": null,
   "metadata": {},
   "outputs": [],
   "source": [
    "subject = '025'\n",
    "ECG_list = []\n",
    "noise_list = []\n",
    "reject(subject, EOG_channels, ECG_list, noise_list)"
   ]
  },
  {
   "cell_type": "code",
   "execution_count": null,
   "metadata": {},
   "outputs": [],
   "source": [
    "subject = '026'\n",
    "ECG_list = []\n",
    "noise_list = []\n",
    "reject(subject, EOG_channels, ECG_list, noise_list)"
   ]
  },
  {
   "cell_type": "code",
   "execution_count": null,
   "metadata": {},
   "outputs": [],
   "source": [
    "subject = '027'\n",
    "ECG_list = []\n",
    "noise_list = []\n",
    "reject(subject, EOG_channels, ECG_list, noise_list)"
   ]
  },
  {
   "cell_type": "code",
   "execution_count": null,
   "metadata": {},
   "outputs": [],
   "source": [
    "subject = '028'\n",
    "ECG_list = []\n",
    "noise_list = []\n",
    "reject(subject, EOG_channels, ECG_list, noise_list)"
   ]
  },
  {
   "cell_type": "code",
   "execution_count": null,
   "metadata": {},
   "outputs": [],
   "source": [
    "subject = '029'\n",
    "ECG_list = []\n",
    "noise_list = []\n",
    "reject(subject, EOG_channels, ECG_list, noise_list)"
   ]
  },
  {
   "cell_type": "code",
   "execution_count": null,
   "metadata": {},
   "outputs": [],
   "source": [
    "subject = '031'\n",
    "ECG_list = []\n",
    "noise_list = []\n",
    "reject(subject, EOG_channels, ECG_list, noise_list)"
   ]
  },
  {
   "cell_type": "code",
   "execution_count": null,
   "metadata": {},
   "outputs": [],
   "source": [
    "subject = '032'\n",
    "ECG_list = []\n",
    "noise_list = []\n",
    "reject(subject, EOG_channels, ECG_list, noise_list)"
   ]
  },
  {
   "cell_type": "code",
   "execution_count": null,
   "metadata": {},
   "outputs": [],
   "source": [
    "subject = '033'\n",
    "ECG_list = []\n",
    "noise_list = []\n",
    "reject(subject, EOG_channels, ECG_list, noise_list)"
   ]
  }
 ]
}