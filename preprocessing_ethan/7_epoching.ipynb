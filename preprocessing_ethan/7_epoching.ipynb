{
 "nbformat": 4,
 "nbformat_minor": 2,
 "metadata": {
  "language_info": {
   "name": "python",
   "codemirror_mode": {
    "name": "ipython",
    "version": 3
   },
   "version": "3.7.6-final"
  },
  "orig_nbformat": 2,
  "file_extension": ".py",
  "mimetype": "text/x-python",
  "name": "python",
  "npconvert_exporter": "python",
  "pygments_lexer": "ipython3",
  "version": 3,
  "kernelspec": {
   "name": "python37464bitfe6cfc8f35204ee7a9bdd31abb292412",
   "display_name": "Python 3.7.4 64-bit"
  }
 },
 "cells": [
  {
   "cell_type": "code",
   "execution_count": null,
   "metadata": {},
   "outputs": [],
   "source": [
    "import mne\n",
    "import numpy as np\n",
    "from scipy import stats\n",
    "import matplotlib.pyplot as plt\n",
    "%matplotlib inline"
   ]
  },
  {
   "cell_type": "code",
   "execution_count": null,
   "metadata": {},
   "outputs": [],
   "source": [
    "from metadata import *\n",
    "\n",
    "print(subject_list)\n",
    "print(tmin, tmax)"
   ]
  },
  {
   "cell_type": "code",
   "execution_count": null,
   "metadata": {},
   "outputs": [],
   "source": [
    "# FOR EACH SUBJECT, CREATE AND SAVE EPOCH OBJECT\n",
    "\n",
    "alpha = 10 # filtering threshold\n",
    "\n",
    "for subject in subject_list:\n",
    "    print('##### Processing subject', subject, '...')\n",
    "\n",
    "    print('# Reading data...')\n",
    "    raw = mne.io.read_raw_fif(ica_after_files[subject], preload = True)\n",
    "    raw.set_montage(biosemi_layout)\n",
    "    events = mne.find_events(raw)\n",
    "\n",
    "    print('# Epoching...')\n",
    "    epochs = mne.Epochs(\n",
    "        raw, \n",
    "        events = events, \n",
    "        tmin = tmin, \n",
    "        tmax = tmax, \n",
    "        baseline = (tmin, 0), \n",
    "        event_id = event_id\n",
    "    )\n",
    "\n",
    "    print('# Dropping outliers...')\n",
    "    epoch_data = epochs.get_data()[:, :len(EEG_channels), :] # [n_events, n_channels, n_time]\n",
    "    trial_ranges = np.max(epoch_data, axis = 2)-np.min(epoch_data, axis = 2)\n",
    "    ranges_zscore = stats.zscore(trial_ranges, axis = 0)\n",
    "    bad_trials = np.any(ranges_zscore > alpha, axis = 1)\n",
    "    print(\"# bad_trials numbers\", bad_trials.sum())\n",
    "    epochs.drop(np.where(bad_trials == 1)[0])\n",
    "\n",
    "    print('# Saving subject', subject, '...')\n",
    "    epochs.save(epoch_files[subject])\n",
    "\n",
    "print('***** ALL DONE *****')"
   ]
  },
  {
   "cell_type": "code",
   "execution_count": null,
   "metadata": {},
   "outputs": [],
   "source": []
  }
 ]
}