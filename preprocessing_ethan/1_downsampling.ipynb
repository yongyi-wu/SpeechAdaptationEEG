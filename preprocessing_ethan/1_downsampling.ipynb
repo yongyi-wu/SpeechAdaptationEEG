{
 "nbformat": 4,
 "nbformat_minor": 2,
 "metadata": {
  "language_info": {
   "name": "python",
   "codemirror_mode": {
    "name": "ipython",
    "version": 3
   },
   "version": "3.7.6-final"
  },
  "orig_nbformat": 2,
  "file_extension": ".py",
  "mimetype": "text/x-python",
  "name": "python",
  "npconvert_exporter": "python",
  "pygments_lexer": "ipython3",
  "version": 3,
  "kernelspec": {
   "name": "python37464bitfe6cfc8f35204ee7a9bdd31abb292412",
   "display_name": "Python 3.7.4 64-bit"
  }
 },
 "cells": [
  {
   "cell_type": "code",
   "execution_count": null,
   "metadata": {},
   "outputs": [],
   "source": [
    "import mne"
   ]
  },
  {
   "cell_type": "code",
   "execution_count": null,
   "metadata": {},
   "outputs": [],
   "source": [
    "from metadata import *\n",
    "\n",
    "print(subject_list)"
   ]
  },
  {
   "cell_type": "code",
   "execution_count": null,
   "metadata": {},
   "outputs": [],
   "source": [
    "# DOWN_SAMPLING\n",
    "\n",
    "sfreq = 128 # new smpling frequency\n",
    "\n",
    "for subject in subject_list: \n",
    "    print('##### Processing subject', subject, '...')\n",
    "\n",
    "    print('# Reading raw data...')\n",
    "    raw = mne.io.read_raw_bdf(\n",
    "        raw_files[subject], \n",
    "        preload = True, \n",
    "        eog = EOG_channels, \n",
    "        exclude = bad_channels\n",
    "    )\n",
    "    print('# Finding events...')\n",
    "\n",
    "    if (subject in ['007', '019', '028']): # stimulus channel in 007, 019, 028 may be problematic\n",
    "        min_length = 1\n",
    "    else: \n",
    "        min_length = 2\n",
    "    events = mne.find_events(\n",
    "        raw, \n",
    "        shortest_event = min_length\n",
    "    )\n",
    "\n",
    "    print('# events length BEFORE downsampling = ', str(len(events)))\n",
    "    print('# Resampling data...')\n",
    "    raw_resampled, events_resampled = raw.resample(\n",
    "        sfreq, \n",
    "        npad = 'auto', \n",
    "        events = events\n",
    "    )\n",
    "    print('# events length AFTER downsampling = ', str(len(events_resampled))) \n",
    "\n",
    "    print('# Saving the file...')\n",
    "    raw_resampled.save(resampled_files[subject], overwrite = True)\n",
    "\n",
    "    print('##### Subject', subject, 'done!')\n",
    "\n",
    "print('***** ALL DONE *****')"
   ]
  },
  {
   "cell_type": "code",
   "execution_count": null,
   "metadata": {},
   "outputs": [],
   "source": []
  }
 ]
}